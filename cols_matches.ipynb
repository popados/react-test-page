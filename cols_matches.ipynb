{
 "cells": [
  {
   "cell_type": "code",
   "execution_count": null,
   "metadata": {
    "collapsed": true
   },
   "outputs": [],
   "source": [
    "import json\n",
    "import csv\n",
    "import urllib2\n",
    "from urllib2 import Request, urlopen\n",
    "import numpy as np\n",
    "import pandas as pd\n",
    "\n",
    "matchCols = ['firstDragon','bans','firstInhibitor','baronKills','firstRiftHerald','winner','firstBaron','riftheraldKills',\n",
    "                  'firstBlood','teamId','firstTower','vilemawKills','inhibitorKills','towerKills','dominionVictoryScore',\n",
    "                  'dragonKills']\n",
    "\n",
    "# df\n",
    "\n",
    "with open()\n",
    "\n",
    "print "
   ]
  }
 ],
 "metadata": {
  "kernelspec": {
   "display_name": "Python [default]",
   "language": "python",
   "name": "python2"
  },
  "language_info": {
   "codemirror_mode": {
    "name": "ipython",
    "version": 2
   },
   "file_extension": ".py",
   "mimetype": "text/x-python",
   "name": "python",
   "nbconvert_exporter": "python",
   "pygments_lexer": "ipython2",
   "version": "2.7.12"
  }
 },
 "nbformat": 4,
 "nbformat_minor": 1
}
