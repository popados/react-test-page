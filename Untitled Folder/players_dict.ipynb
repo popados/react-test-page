{
 "cells": [
  {
   "cell_type": "code",
   "execution_count": 1,
   "metadata": {
    "collapsed": false
   },
   "outputs": [
    {
     "name": "stdout",
     "output_type": "stream",
     "text": [
      "{'1deag': 26408292, 'Zergy': 21144092, 't d': 54886348, 'UCSD Felix': 81449283, 'wolverene': 19218323, 'AkiyoWind': 32903475, 'Yeonbee': 35021069, 'Fir\\xc3\\xa9': 28909573, 'TeddyRO': 26510985, 'Burp': 27746439, 'S DlANA 2': 35461932, '7120327': 61572841, 'Tr\\xc3\\xbd': 20072993, 'MattyMooo': 45678930, 'master fizz': 20696516, 'BobbyTea': 26065445, 'biblee': 38857618, 'PoppyIar': 37444943, 'Griffin1795': 22790562, 'always plan ahea': 30046300, 'President Elect': 39530710, 'Lesu': 37928970, 'Gamer Girl': 32556358, 'LimitedExtent': 23055302, 'Versag0': 25328716, 'Y0UNGBIN': 28880869, 'yade or yade': 19128116, 'tujinet': 41817320, 'MorningBaconBits': 21329098, 'DoctorLe': 30222111, 'Bao Bao': 45661658, 'daduu': 19451735, 'Scottyjizzonyou': 19882718, 'Remmacs': 49511626, 'B0dydrop': 68469260, 'Boyyyyyyyyyyyyyy': 43873947, 'NoahMost': 23479635, 'T L F ': 40929668, 'TacosdeFrijoles': 26361149, 'Biofrost ': 22478427, 'iRicky': 29730409, 'DouyuTV Jacky': 51972895, 'I Want My Cigar': 35110993, 'NA Mechanics': 35035174, 'Katar': 22879711, '\\xc5\\x9aulli': 58243493, 'Kean\\xc3\\xa9': 65389101, 'BOB MCFREEWIN': 40835255, 'kina2': 56019174, 'Touch My Lantern': 78732375, 'Hyper': 23467785, 'Lucent Shaco': 20647605, 'O My Money': 63653079, 'Ntz dOdObee': 28336680, 'Theone863': 28569125, 'Nexevis': 29647265, 'Best Of You': 21211528, 'Rabbithasu': 28501315, 'Pants are Dragon': 22403576, 'C9 Hai': 492066, 'Happy Birfdizzay': 26153361, '\\xc3\\x9bz\\xc3\\xac': 19215996, 'Washed Up ': 77570878, 'Blooms': 28408845, 'Julius in 2017': 27962195, 'AsianSGp\\xc3\\xb8tat\\xc3\\xb8': 36447212, 'ddwaeji': 20577176, 'Screaming': 29293356, 'Iley': 41777257, 'ZatsMod': 36111109, 'Panth Tier God': 48049942, 'Jinoa': 26206543, 'Moldy Vee': 46316985, 'pug smile ': 34552015, 'Bes': 19599117, 'chelly': 69709179, 'TiboPino': 47101969, 'Ikzencriel': 38841069, 'JuIy': 36393971, 'Never Been': 42018127, 'Ssita O  3 O': 75871549, 'crisPfox': 36400685, 'consensual clown': 35017400, 'haHAA LAL': 27794083, 'FLY Remilia': 53317980, 'xFSN Rin': 21836856, 'Wizzy': 21911054, 'Pink Ward': 21776708, 'Kazahana': 36119978, 'RubADub3Men1Tub': 32233408, 'Noobkiller291': 32016710, 'Sir Celery': 45038172, 'Apdo dogjj': 62250480, 'Flash For Kill': 52751314, 'Nero Valentine': 19082810, 'Godsu Mechanics': 40999177, 'JeezyTheSnowMan': 21961605, 'Dystrex': 24935959, 'TheeBrandini': 30255016, 'bu xu xiao': 71181475, 'Sekune': 37842613, 'Liquid Painless': 26851284, 'keithly': 79390303, 'Hi lm Joshie': 50759303, 'Pawsu': 43919648, 'creamwithice': 45473130, 'Siddd': 37362949, 'Cpt Squirtle': 23632567, 'Riisbar': 24110807, 'Genthix': 22200455, 'Braums Mustache': 31027710, 'TwtchTv imaokai': 71641026, 'Ar\\xc3\\xa7ee': 28949426, 'NoWardsGG': 45027747, 'Twisted Fate Bot': 38430184, '1997 12 10': 47457076, 'Damnsum': 28460777, 'Olympiens': 23839773, 'A NEW MONSTER': 43627003, 'IQ is 201 ': 21416890, 'Dr Saline PhD': 28840804, 'Vortexum': 69642260, 'Was a joke BRAH': 26410615, 'Spirit Airlines': 83089371, 'YummiBananas': 28903785, 'Liquid 1921119': 60181263, 'support or troll': 58559155, 'Azrael Olaf': 48240600, 'GangstaEnigma': 20327622, 'Mr Gimix': 19648146, 'Teem\\xc3\\xb2': 25848742, 'Stephen M Ross': 40572808, 'Lantern Bott': 22298866, 'K1ting': 78842632, 'Butler Delta': 55629820, 'jungling sucks': 80659165, 'SaintKilian': 38610133, 'greenl\\xc3\\xa9af': 20387972, 'Hyorimaru': 46239231, '1936 1948': 43685016, 'Sheiden': 52590436, 'FaR007': 20731155, '25th Bam': 73759236, 'Event': 21623482, 'Yesimcelend': 20724263, 'Mister Lau': 21991932, 'Joyul': 77371699, 'Myloo': 38786576, 'Day after Day': 20694079, 'Enrique2pe': 22523843, 'o boiii': 22681046, 'C9 EonYoung': 65389099, 'C9 Oblivion': 36386035, 'VoidIncarnated': 21429782, 'Nhock': 27812058, 'skcepsxmB': 32653422, 'biggestmanboobna': 55818944, 'Swordblue': 20122858, 'sKILLSHOTz FIRED': 44664326, 'i am badeed': 47429312, 'SamppA': 20816450, 'Hakuho': 21193669, 'Chuc Tran': 32961751, 'KiwiPlum': 79902609, 'Klawbro': 48115033, 'Verifying Name': 39970213, 'aphromoo': 442232, 'Finkypop': 41216586, '5 13 9 12 Y': 41805714, 'scarra': 10077, 'open mid': 58260011, 'Suntail': 21847981, 'KU Xy': 55506741, 'Sexy GirI': 64785014, 'UgotWreck3d': 20461580, 'lron Pyrite': 21014987, 'Lockdown': 19955340, 'Twisted F\\xc3\\xa2te': 23129170, 'jyjyjy': 40914309, 'Tonington': 29773406, 'Program': 165203, 'Tsui Wah ': 72743218, 'Kurum1': 40279866, 'YIlIlIlIlI': 56901374, '4 hisa': 26251353, 'inlorfaze': 45729266, 'Budded': 32723343, 'DZG Cobra': 19634781, 'Balding Dad': 27282584, 'Behindthedoor': 21912166, 'SorakaLulu': 32294661, 'Lord Zxyc': 32929410, 'tnerual70': 61021640, '21 10': 33359979, 'Garani': 19079393, 'Dylaran': 33679978, '2016 01 25 ': 43079579, 'Nathan N': 60149424, 'Liquid fabbbyyy': 34287847, 'Romanium': 20024227, 'League of Ryu': 83179090, 'Scherb': 26183864, 'Imentice': 39057961, 'Yami': 21747804, 'MRTONERBONER': 47836799, 'Chody Walrus': 20037104, 'Feitan': 35612484, 'TDK CaillouX': 22206078, 'xHazzard': 20483477, 'YahooDotCom': 581310, 'NotJamesDing': 21938181, 'I Shadow I': 21947923, 'Ghalvz': 21705950, 'League Of Arrow': 83339085, 'Gmandlife': 43821064, 'Ch\\xc3\\xa0se': 25232745, 'lc0nic': 45186258, 'gatsuno': 19577112, 'Xpecial': 19199530, 'Modx': 26051120, 'WatchThePower': 40337128, 'Mister Wubz': 23495845, 'helpmelearn': 64825900, 'Henryrocks': 26803861, 'freelancer': 20142680, 'CC Hollywood': 25060965, '0 K A Y B O Y S': 22922261, 'Korean G0D': 68149078, 'Zent': 24491732, 'Semoponume': 29275229, 'Q1 Tian Da Sheng': 64590437, 'Mama Zer0': 24415109, 'Shimi': 71799785, 'aShady': 59189004, 'Leza': 57539102, 'Clouded Eyes': 82259230, 'Blud Munni': 24710688, 'Quad Main': 32705024, 'Old Man Lohpally': 77729240, 'ThatOneGuy': 27380863, 'PandaPandaPannda': 77311975, 'bulgarian jg  ': 20006875, 'Shimatora': 30372420, 'XAlphaPro': 28414702, 'SneakyJungler': 21459323, 'Trigger Slinger ': 22588908, 'Muchkin': 22623566, 'Twocutz': 19979141, 'BukZacH': 20227573, 'emV': 44503099, 'ZealotTKO': 38772045, 'ADC Prospect': 38906293, 'V\\xc2\\xb5lcan': 21276764, 'SWKM': 59685, 'am not toxic': 34469363, 'Turkish Coffee': 22991854, 'xKace': 28993829, 'iPav': 50043186, 'Jhiu Returns': 22153502, 'fireboyx': 78859792, 'Iionhearted': 23022664, 'Annie Bot': 35590582, 'Duke of Parma': 65239176, 'Park': 22551130, 'impala tamer': 25880323, 'OrangeNation': 44989338, 'good player98': 24798779, 'Jeehun': 47522700, 'good player96': 60805480, 'Shroudedd': 58421117, 'l Spawn l': 32299406, 'Vultix': 27409706, 'Danco': 24247556, 'REM BEST GlRL': 25928780, 'B\\xc3\\xb4om': 22203340, 'AsianGoneWild': 22945412, 'McCashDollar': 21328540, 'Old Brother K1SS': 77039145, 'AchiIIes Heal': 41885666, 'Zyko': 37341012, 'Sasuni': 36631236, 'TSM MeNoHaxor': 71715, 'EleJiggle': 22701102, 'gneV': 73160759, 'Rule Bage': 26322650, 'Hen': 64904867, 'Prestivent': 25243945, 'SlapPorkChop': 21978925, '1411702': 25972071, 'Extreme Person': 28530150, 'Acoldblazeolive': 30366254, 'HvK DCStar': 21219157, 'Deweyyy': 55815684, 'D9 Nobody': 83039128, 'nikon': 30079, 'SKY Fear': 62372968, 'doubleliftfanboy': 44989342, 'Lobo Solitari\\xc3\\xb3': 40220617, 'Locke Lamora': 30575166, 'My Kat Evolved': 36931875, 'xxxVOLIBEARxx': 76693312, 'Chas\\xc3\\xa9r ': 83089576, 'value': 24858283, '1onz': 307822, 'Mich\\xc3\\xa6I': 29251647, 'Prime Gom': 25452628, 'C9 Smoothie': 20823651, 'TSB Ethiridis': 71350203, 'Spexed': 21881143, 'eLove': 82459096, 'EvenIfYouCry': 43370474, 'uupa': 21833160, 'Binti Jua': 23926037, 'ImLightUrShadow': 45164529, 'Spirax': 30212825, 'less       Fear': 34962254, 'FourofDiamonds': 20534978, 'CIoudy': 31592402, 'Im Clark Kent': 100363, 'ArnKC': 78450467, 'UNBAN SOJS': 81700817, 'RiceLegend': 22220672, 'Sal Jay': 26070989, 'Ghost Ghost': 621, 'gelato lord': 19106536, 'N\\xc3\\xadghtingale': 31621552, 'a imperator': 51580106, 'Anth\\xc3\\xb8ny': 47676166, 'robust': 22654107, 'Morning': 78859542, 'FrostyLights': 31198030, 'Biscuit Crusader': 44951690, 'FLY Lemon': 44979325, 'The Aviator': 22688824, 'tigerjjayman': 41743864, 'JapaneseKoreanUG': 42788912, 'H4xDefender': 20920347, 'Keff Fking1': 24210066, 'Kachu': 35502053, 'Zib Nibbler': 28329959, 'Green Awakening': 59950029, 'CraacK': 22156402, 'Darvec': 19534901, 'Crackadon': 34402763, 'KarasMai': 75250306, 'TheIntenseMango': 22076548, 'ex genji main': 45191640, 'Liquid Lourlo': 19061980, 'Elayra': 22707996, 'Chicken2013': 46226392, 'Aeriya': 33439727, 'TeamMeiya 70': 50887553, 'Sophist Sage': 38809624, 'Aq\\xc3\\xb9a': 20822144, 'ill do my best': 272354, 'Eepblob': 21122451, 'LC is a dog': 24615093, 'Tro5': 39077042, 'Knight Emperor': 32506961, 'chu dui xiang': 82149286, 'Angel\\xc3\\xbami': 20122662, 'ET Nomad 1': 82779239, 'Smurfing 217': 19901157, 'THE ELO VAMPIRE': 59800310, 'Hobbler': 83039481, 'Kic': 606361, 'DG Luna': 24238137, 'Betabet': 34228761, 'HIGGINBOTTAMS': 65809586, 'ardnaxela': 23523442, 'Partikle': 20113883, 'Veerski': 49123600, 'mental stay good': 82769263, 'Spect': 24509336, 'Makou': 26357125, 'k\\xc3\\xa0yl\\xc3\\xa8': 29431520, 'Goxtry': 25599243, 'WinWinBae': 24295656, 'T\\xc3\\xa0ctical': 47212115, 'Adi Para Shakti': 80632074, 'frozen qualia': 28426754, 'Senbonzakuraa': 64359091, 'Trevor Hall': 34304824, 'Rhux': 19959767, 'Sud83': 39696163, 'Diuuuuuuuuuuuuuu': 50561051, 'Van \\xc3\\x90arkholme': 70039590, '08 06 1995': 19715873, 'Lucky Player': 68301925, 'Japanese Import': 33071743, 'greatkaichamp03': 73170218, 'cackgod': 40272268, 'PieCakeLord': 35703236, 'p\\xc3\\xbcn': 24449515, 'L\\xc3\\xa1tte': 38342712, 'Huhkevi4': 19290326, 'Pepperidge Patch': 40920065, 'TechnoJihad': 23658386, 'IIIll63IIlll': 21726097, '1 M\\xc3\\xacn 1 Sec': 38384295, 'wc Hero': 25241660, 'KaNKl': 28690500, '09 12 2015': 31296001, 'Lava': 19812679, 'Timeless Void': 23376707, 'Itz Amy Vu': 81619136, 'Xmithie': 19761072, '\\xc3\\x94tt': 22048236, 'IKingVex': 46531569, 'GordanRamsey': 443735, 'Vx1n Wedabest': 28661557, 'Saucy Sells': 26165051, 'Abou222': 20072604, 'Panunu': 19267108, 'quante': 38572712, 'Etiolate': 26686436, 'TwitchTv Tai67': 76891481, 'SoullessInferno': 390914, 'P1 Pirean': 81592523, 'i am one trick': 77269277, 'LuxSaysUMadGrin': 50936413, 'AutoLock Saber': 58829179, 'An Obese Panda': 20611031, 'Ayukura': 34753465, 'chakhae': 24907087, 'Wuri': 29194748, 'Pseudo': 31271272, 'Tzaphkiel': 46091942, 'HomedogPaws': 22246967, 'Bot Lane Antics': 53827924, 'Simon Hawkes': 24344299, 'simple is best': 66571074, 'Allorim': 24671130, 'Cat Ears': 20553399, 'Lord Jirall': 19875787, 'ZTG SolidSnake': 76609200, 'bvcx222': 41216897, 'Oor\\xc3\\xacx': 83039211, 'Grande Donger': 39996814, 'MyLovely Vivioni': 21340212, 'andtheknee': 27253842, 'Arcsecond': 27470522, 'Evaniskus': 20052657, 'I am Fearless': 22028158, 'DiMario': 82329942, 'Nano Seconds': 21451895, '9213dog': 26125816, 'Voyboy': 19134540, 'Ji\\xc3\\xa4': 31481913, 'Short Dog': 44979352, 'Asyc xD ': 68682833, 'Yonsi': 69521784, 'j\\xc3\\xacmmy': 32578662, 'Colorro': 41981337, 'J\\xc3\\xb2\\xc3\\xa9y': 66929247, 'Schnell Run': 35453953}\n",
      "          0             1             2          3                4    \\\n",
      "0    81619136      23632567        443735   35590582         33071743   \n",
      "1  Itz Amy Vu  Cpt Squirtle  GordanRamsey  Annie Bot  Japanese Import   \n",
      "\n",
      "            5             6         7                8          9      ...     \\\n",
      "0      50887553      31198030  25232745         21961605   20122858    ...      \n",
      "1  TeamMeiya 70  FrostyLights     Chàse  JeezyTheSnowMan  Swordblue    ...      \n",
      "\n",
      "        447       448          449       450     451       452       453  \\\n",
      "0  83089576  19955340     46226392  31481913  492066  47522700  44503099   \n",
      "1   Chasér   Lockdown  Chicken2013       Jiä  C9 Hai    Jeehun       emV   \n",
      "\n",
      "        454        455       456  \n",
      "0  79902609   29773406  77272800  \n",
      "1  KiwiPlum  Tonington       Àçé  \n",
      "\n",
      "[2 rows x 457 columns]\n"
     ]
    }
   ],
   "source": [
    "\n",
    "import json\n",
    "import csv\n",
    "import urllib2\n",
    "from urllib2 import Request, urlopen\n",
    "import pandas as pd\n",
    "import numpy as np\n",
    "\n",
    "player_dict = {}\n",
    "playerID=[]\n",
    "playerName=[]\n",
    "count=0\n",
    "\n",
    "df_cols = ['freshblood', 'divison', 'veteran', 'wins', 'losses', 'playerID','playerName',\n",
    "           'inactive','hotstreak','leaguePoints']\n",
    "\n",
    "leader = pd.read_csv(\"C:\\Users\\Nik\\Desktop\\LeagueData\\leaguedata2.csv\", names=df_cols, skiprows=1, na_filter=False, header=0)\n",
    "\n",
    "for id in leader.playerID:\n",
    "    playerID.append(id)\n",
    "\n",
    "for name in leader.playerName:\n",
    "    playerName.append(name)\n",
    "\n",
    "while count < 456:\n",
    "    player_dict[playerName[count]] = playerID[count]\n",
    "    count += 1\n",
    "\n",
    "print player_dict\n",
    "\n",
    "players = pd.DataFrame([playerID,playerName])\n",
    "\n",
    "#np.dtype(player_dict)\n",
    "print players"
   ]
  },
  {
   "cell_type": "code",
   "execution_count": 7,
   "metadata": {
    "collapsed": true
   },
   "outputs": [],
   "source": [
    "players1= players.T"
   ]
  },
  {
   "cell_type": "code",
   "execution_count": 10,
   "metadata": {
    "collapsed": false
   },
   "outputs": [
    {
     "data": {
      "text/html": [
       "<div>\n",
       "<table border=\"1\" class=\"dataframe\">\n",
       "  <thead>\n",
       "    <tr style=\"text-align: right;\">\n",
       "      <th></th>\n",
       "      <th>0</th>\n",
       "      <th>1</th>\n",
       "      <th>2</th>\n",
       "      <th>3</th>\n",
       "      <th>4</th>\n",
       "      <th>5</th>\n",
       "      <th>6</th>\n",
       "      <th>7</th>\n",
       "      <th>8</th>\n",
       "      <th>9</th>\n",
       "      <th>...</th>\n",
       "      <th>447</th>\n",
       "      <th>448</th>\n",
       "      <th>449</th>\n",
       "      <th>450</th>\n",
       "      <th>451</th>\n",
       "      <th>452</th>\n",
       "      <th>453</th>\n",
       "      <th>454</th>\n",
       "      <th>455</th>\n",
       "      <th>456</th>\n",
       "    </tr>\n",
       "  </thead>\n",
       "  <tbody>\n",
       "    <tr>\n",
       "      <th>0</th>\n",
       "      <td>81619136</td>\n",
       "      <td>23632567</td>\n",
       "      <td>443735</td>\n",
       "      <td>35590582</td>\n",
       "      <td>33071743</td>\n",
       "      <td>50887553</td>\n",
       "      <td>31198030</td>\n",
       "      <td>25232745</td>\n",
       "      <td>21961605</td>\n",
       "      <td>20122858</td>\n",
       "      <td>...</td>\n",
       "      <td>83089576</td>\n",
       "      <td>19955340</td>\n",
       "      <td>46226392</td>\n",
       "      <td>31481913</td>\n",
       "      <td>492066</td>\n",
       "      <td>47522700</td>\n",
       "      <td>44503099</td>\n",
       "      <td>79902609</td>\n",
       "      <td>29773406</td>\n",
       "      <td>77272800</td>\n",
       "    </tr>\n",
       "    <tr>\n",
       "      <th>1</th>\n",
       "      <td>Itz Amy Vu</td>\n",
       "      <td>Cpt Squirtle</td>\n",
       "      <td>GordanRamsey</td>\n",
       "      <td>Annie Bot</td>\n",
       "      <td>Japanese Import</td>\n",
       "      <td>TeamMeiya 70</td>\n",
       "      <td>FrostyLights</td>\n",
       "      <td>Chàse</td>\n",
       "      <td>JeezyTheSnowMan</td>\n",
       "      <td>Swordblue</td>\n",
       "      <td>...</td>\n",
       "      <td>Chasér</td>\n",
       "      <td>Lockdown</td>\n",
       "      <td>Chicken2013</td>\n",
       "      <td>Jiä</td>\n",
       "      <td>C9 Hai</td>\n",
       "      <td>Jeehun</td>\n",
       "      <td>emV</td>\n",
       "      <td>KiwiPlum</td>\n",
       "      <td>Tonington</td>\n",
       "      <td>Àçé</td>\n",
       "    </tr>\n",
       "  </tbody>\n",
       "</table>\n",
       "<p>2 rows × 457 columns</p>\n",
       "</div>"
      ],
      "text/plain": [
       "          0             1             2          3                4    \\\n",
       "0    81619136      23632567        443735   35590582         33071743   \n",
       "1  Itz Amy Vu  Cpt Squirtle  GordanRamsey  Annie Bot  Japanese Import   \n",
       "\n",
       "            5             6         7                8          9      ...     \\\n",
       "0      50887553      31198030  25232745         21961605   20122858    ...      \n",
       "1  TeamMeiya 70  FrostyLights     Chàse  JeezyTheSnowMan  Swordblue    ...      \n",
       "\n",
       "        447       448          449       450     451       452       453  \\\n",
       "0  83089576  19955340     46226392  31481913  492066  47522700  44503099   \n",
       "1   Chasér   Lockdown  Chicken2013       Jiä  C9 Hai    Jeehun       emV   \n",
       "\n",
       "        454        455       456  \n",
       "0  79902609   29773406  77272800  \n",
       "1  KiwiPlum  Tonington       Àçé  \n",
       "\n",
       "[2 rows x 457 columns]"
      ]
     },
     "execution_count": 10,
     "metadata": {},
     "output_type": "execute_result"
    }
   ],
   "source": [
    "players"
   ]
  },
  {
   "cell_type": "code",
   "execution_count": 11,
   "metadata": {
    "collapsed": false
   },
   "outputs": [
    {
     "ename": "AttributeError",
     "evalue": "'module' object has no attribute 'players'",
     "output_type": "error",
     "traceback": [
      "\u001b[0;31m---------------------------------------------------------------------------\u001b[0m",
      "\u001b[0;31mAttributeError\u001b[0m                            Traceback (most recent call last)",
      "\u001b[0;32m<ipython-input-11-49372ea59a54>\u001b[0m in \u001b[0;36m<module>\u001b[0;34m()\u001b[0m\n\u001b[0;32m----> 1\u001b[0;31m \u001b[0mpd\u001b[0m\u001b[1;33m.\u001b[0m\u001b[0mplayers\u001b[0m\u001b[1;33m.\u001b[0m\u001b[0mto_json\u001b[0m\u001b[1;33m(\u001b[0m\u001b[1;34m'players.json'\u001b[0m\u001b[1;33m)\u001b[0m\u001b[1;33m\u001b[0m\u001b[0m\n\u001b[0m",
      "\u001b[0;31mAttributeError\u001b[0m: 'module' object has no attribute 'players'"
     ]
    }
   ],
   "source": [
    "pd.players.to_json('players.json')"
   ]
  },
  {
   "cell_type": "code",
   "execution_count": null,
   "metadata": {
    "collapsed": true
   },
   "outputs": [],
   "source": []
  }
 ],
 "metadata": {
  "kernelspec": {
   "display_name": "Python 2",
   "language": "python",
   "name": "python2"
  },
  "language_info": {
   "codemirror_mode": {
    "name": "ipython",
    "version": 2
   },
   "file_extension": ".py",
   "mimetype": "text/x-python",
   "name": "python",
   "nbconvert_exporter": "python",
   "pygments_lexer": "ipython2",
   "version": "2.7.13"
  }
 },
 "nbformat": 4,
 "nbformat_minor": 2
}
