{
 "cells": [
  {
   "cell_type": "code",
   "execution_count": 32,
   "metadata": {
    "collapsed": false
   },
   "outputs": [],
   "source": [
    "import os\n",
    "import pandas as pd\n",
    "from collections import namedtuple\n",
    "\n",
    "\n",
    "Player = namedtuple('Player', ['champion', 'lane', 'matchID', 'platformID', 'queue', 'region', 'role', 'season', 'timestamp'], verbose=False)\n",
    "\n",
    "# Read file directory\n",
    "path = './match_data/'\n",
    "file_list = os.listdir(path)\n",
    "\n",
    "match_frames = []\n",
    "\n",
    "for mfile in file_list:\n",
    "    match_file = '{0}{1}'.format(path, mfile)\n",
    "    player_name = mfile.split('.')[0]\n",
    "    mframe = pd.read_csv(match_file)\n",
    "    mframe['player_name'] = player_name\n",
    "    match_frames.append(mframe)\n",
    "\n",
    "match_results = pd.concat(match_frames)"
   ]
  },
  {
   "cell_type": "code",
   "execution_count": 33,
   "metadata": {
    "collapsed": false
   },
   "outputs": [
    {
     "data": {
      "text/plain": [
       "(26477, 10)"
      ]
     },
     "execution_count": 33,
     "metadata": {},
     "output_type": "execute_result"
    }
   ],
   "source": [
    "match_results.shape"
   ]
  },
  {
   "cell_type": "code",
   "execution_count": 2,
   "metadata": {
    "collapsed": false
   },
   "outputs": [
    {
     "ename": "NameError",
     "evalue": "name 'match_results' is not defined",
     "output_type": "error",
     "traceback": [
      "\u001b[0;31m---------------------------------------------------------------------------\u001b[0m",
      "\u001b[0;31mNameError\u001b[0m                                 Traceback (most recent call last)",
      "\u001b[0;32m<ipython-input-2-c2bd5f5c7aca>\u001b[0m in \u001b[0;36m<module>\u001b[0;34m()\u001b[0m\n\u001b[0;32m----> 1\u001b[0;31m \u001b[0mmatch_results\u001b[0m\u001b[1;33m\u001b[0m\u001b[0m\n\u001b[0m",
      "\u001b[0;31mNameError\u001b[0m: name 'match_results' is not defined"
     ]
    }
   ],
   "source": [
    "match_results"
   ]
  },
  {
   "cell_type": "code",
   "execution_count": 43,
   "metadata": {
    "collapsed": false
   },
   "outputs": [
    {
     "name": "stdout",
     "output_type": "stream",
     "text": [
      "<class 'pandas.core.frame.DataFrame'>\n",
      "Int64Index: 26477 entries, 0 to 1198\n",
      "Data columns (total 10 columns):\n",
      "champion       26477 non-null int64\n",
      "lane           26477 non-null object\n",
      "matchID        26477 non-null int64\n",
      "platformID     26477 non-null object\n",
      "queue          26477 non-null object\n",
      "region         0 non-null float64\n",
      "role           26477 non-null object\n",
      "season         26477 non-null object\n",
      "timestamp      26477 non-null int64\n",
      "player_name    26477 non-null object\n",
      "dtypes: float64(1), int64(3), object(6)\n",
      "memory usage: 2.2+ MB\n"
     ]
    }
   ],
   "source": [
    "match_results.info()"
   ]
  },
  {
   "cell_type": "code",
   "execution_count": 35,
   "metadata": {
    "collapsed": false
   },
   "outputs": [
    {
     "data": {
      "text/plain": [
       "0      1970-01-01 00:24:48.247819979\n",
       "1      1970-01-01 00:24:48.241680002\n",
       "2      1970-01-01 00:24:48.238864993\n",
       "3      1970-01-01 00:24:48.236871351\n",
       "4      1970-01-01 00:24:48.106373617\n",
       "5      1970-01-01 00:24:48.103394930\n",
       "6      1970-01-01 00:24:47.979184391\n",
       "7      1970-01-01 00:24:47.895745626\n",
       "8      1970-01-01 00:24:47.893174712\n",
       "9      1970-01-01 00:24:47.833676375\n",
       "10     1970-01-01 00:24:47.831027689\n",
       "11     1970-01-01 00:24:47.980286860\n",
       "12     1970-01-01 00:24:45.461027989\n",
       "13     1970-01-01 00:24:45.365675417\n",
       "14     1970-01-01 00:24:45.303863430\n",
       "15     1970-01-01 00:24:45.116948047\n",
       "16     1970-01-01 00:24:45.114603194\n",
       "17     1970-01-01 00:24:44.946898291\n",
       "18     1970-01-01 00:24:44.853778096\n",
       "19     1970-01-01 00:24:44.851189956\n",
       "20     1970-01-01 00:24:44.685936455\n",
       "21     1970-01-01 00:24:44.683670260\n",
       "22     1970-01-01 00:24:48.151553629\n",
       "23     1970-01-01 00:24:47.727429345\n",
       "24     1970-01-01 00:24:47.722349824\n",
       "25     1970-01-01 00:24:47.486848670\n",
       "26     1970-01-01 00:24:47.483711155\n",
       "27     1970-01-01 00:24:47.481409036\n",
       "28     1970-01-01 00:24:47.478807167\n",
       "29     1970-01-01 00:24:47.476646756\n",
       "                    ...             \n",
       "1169   1970-01-01 00:24:48.181666614\n",
       "1170   1970-01-01 00:24:48.105115804\n",
       "1171   1970-01-01 00:24:48.094318380\n",
       "1172   1970-01-01 00:24:48.063918477\n",
       "1173   1970-01-01 00:24:48.059244873\n",
       "1174   1970-01-01 00:24:48.056952521\n",
       "1175   1970-01-01 00:24:48.054181453\n",
       "1176   1970-01-01 00:24:48.051115687\n",
       "1177   1970-01-01 00:24:48.075974177\n",
       "1178   1970-01-01 00:24:48.073309681\n",
       "1179   1970-01-01 00:24:47.696910974\n",
       "1180   1970-01-01 00:24:47.689897194\n",
       "1181   1970-01-01 00:24:47.632457707\n",
       "1182   1970-01-01 00:24:47.622510474\n",
       "1183   1970-01-01 00:24:47.620512991\n",
       "1184   1970-01-01 00:24:47.503287678\n",
       "1185   1970-01-01 00:24:47.153131812\n",
       "1186   1970-01-01 00:24:47.150921585\n",
       "1187   1970-01-01 00:24:47.146705381\n",
       "1188   1970-01-01 00:24:47.883039016\n",
       "1189   1970-01-01 00:24:47.875405014\n",
       "1190   1970-01-01 00:24:47.866200338\n",
       "1191   1970-01-01 00:24:47.792943628\n",
       "1192   1970-01-01 00:24:47.790230179\n",
       "1193   1970-01-01 00:24:47.786737106\n",
       "1194   1970-01-01 00:24:47.784002571\n",
       "1195   1970-01-01 00:24:47.491623412\n",
       "1196   1970-01-01 00:24:47.488952434\n",
       "1197   1970-01-01 00:24:47.449809278\n",
       "1198   1970-01-01 00:24:47.446608292\n",
       "Name: timestamp, dtype: datetime64[ns]"
      ]
     },
     "execution_count": 35,
     "metadata": {},
     "output_type": "execute_result"
    }
   ],
   "source": [
    "pd.to_datetime(match_results.timestamp)"
   ]
  },
  {
   "cell_type": "code",
   "execution_count": 36,
   "metadata": {
    "collapsed": true
   },
   "outputs": [],
   "source": [
    "from datetime import datetime"
   ]
  },
  {
   "cell_type": "code",
   "execution_count": 57,
   "metadata": {
    "collapsed": false
   },
   "outputs": [],
   "source": [
    "match_results['match_date'] = match_results.timestamp.apply(lambda x: datetime(1970, 1, 1) + timedelta(milliseconds=x))"
   ]
  },
  {
   "cell_type": "code",
   "execution_count": 58,
   "metadata": {
    "collapsed": false
   },
   "outputs": [
    {
     "data": {
      "text/html": [
       "<div>\n",
       "<table border=\"1\" class=\"dataframe\">\n",
       "  <thead>\n",
       "    <tr style=\"text-align: right;\">\n",
       "      <th></th>\n",
       "      <th>champion</th>\n",
       "      <th>lane</th>\n",
       "      <th>matchID</th>\n",
       "      <th>platformID</th>\n",
       "      <th>queue</th>\n",
       "      <th>region</th>\n",
       "      <th>role</th>\n",
       "      <th>season</th>\n",
       "      <th>timestamp</th>\n",
       "      <th>player_name</th>\n",
       "      <th>match_date</th>\n",
       "    </tr>\n",
       "  </thead>\n",
       "  <tbody>\n",
       "    <tr>\n",
       "      <th>0</th>\n",
       "      <td>421</td>\n",
       "      <td>JUNGLE</td>\n",
       "      <td>2438661899</td>\n",
       "      <td>NA1</td>\n",
       "      <td>TEAM_BUILDER_RANKED_SOLO</td>\n",
       "      <td>NaN</td>\n",
       "      <td>NONE</td>\n",
       "      <td>PRESEASON2017</td>\n",
       "      <td>1488247819979</td>\n",
       "      <td>An Obese Panda</td>\n",
       "      <td>2017-02-28 02:10:19.979</td>\n",
       "    </tr>\n",
       "    <tr>\n",
       "      <th>1</th>\n",
       "      <td>39</td>\n",
       "      <td>TOP</td>\n",
       "      <td>2438581166</td>\n",
       "      <td>NA1</td>\n",
       "      <td>TEAM_BUILDER_RANKED_SOLO</td>\n",
       "      <td>NaN</td>\n",
       "      <td>SOLO</td>\n",
       "      <td>PRESEASON2017</td>\n",
       "      <td>1488241680002</td>\n",
       "      <td>An Obese Panda</td>\n",
       "      <td>2017-02-28 00:28:00.002</td>\n",
       "    </tr>\n",
       "    <tr>\n",
       "      <th>2</th>\n",
       "      <td>58</td>\n",
       "      <td>TOP</td>\n",
       "      <td>2438506691</td>\n",
       "      <td>NA1</td>\n",
       "      <td>TEAM_BUILDER_RANKED_SOLO</td>\n",
       "      <td>NaN</td>\n",
       "      <td>SOLO</td>\n",
       "      <td>PRESEASON2017</td>\n",
       "      <td>1488238864993</td>\n",
       "      <td>An Obese Panda</td>\n",
       "      <td>2017-02-27 23:41:04.993</td>\n",
       "    </tr>\n",
       "    <tr>\n",
       "      <th>3</th>\n",
       "      <td>133</td>\n",
       "      <td>TOP</td>\n",
       "      <td>2438484705</td>\n",
       "      <td>NA1</td>\n",
       "      <td>TEAM_BUILDER_RANKED_SOLO</td>\n",
       "      <td>NaN</td>\n",
       "      <td>SOLO</td>\n",
       "      <td>PRESEASON2017</td>\n",
       "      <td>1488236871351</td>\n",
       "      <td>An Obese Panda</td>\n",
       "      <td>2017-02-27 23:07:51.351</td>\n",
       "    </tr>\n",
       "    <tr>\n",
       "      <th>4</th>\n",
       "      <td>85</td>\n",
       "      <td>BOTTOM</td>\n",
       "      <td>2437022468</td>\n",
       "      <td>NA1</td>\n",
       "      <td>TEAM_BUILDER_RANKED_SOLO</td>\n",
       "      <td>NaN</td>\n",
       "      <td>DUO_SUPPORT</td>\n",
       "      <td>PRESEASON2017</td>\n",
       "      <td>1488106373617</td>\n",
       "      <td>An Obese Panda</td>\n",
       "      <td>2017-02-26 10:52:53.617</td>\n",
       "    </tr>\n",
       "  </tbody>\n",
       "</table>\n",
       "</div>"
      ],
      "text/plain": [
       "   champion    lane     matchID platformID                     queue  region  \\\n",
       "0       421  JUNGLE  2438661899        NA1  TEAM_BUILDER_RANKED_SOLO     NaN   \n",
       "1        39     TOP  2438581166        NA1  TEAM_BUILDER_RANKED_SOLO     NaN   \n",
       "2        58     TOP  2438506691        NA1  TEAM_BUILDER_RANKED_SOLO     NaN   \n",
       "3       133     TOP  2438484705        NA1  TEAM_BUILDER_RANKED_SOLO     NaN   \n",
       "4        85  BOTTOM  2437022468        NA1  TEAM_BUILDER_RANKED_SOLO     NaN   \n",
       "\n",
       "          role         season      timestamp     player_name  \\\n",
       "0         NONE  PRESEASON2017  1488247819979  An Obese Panda   \n",
       "1         SOLO  PRESEASON2017  1488241680002  An Obese Panda   \n",
       "2         SOLO  PRESEASON2017  1488238864993  An Obese Panda   \n",
       "3         SOLO  PRESEASON2017  1488236871351  An Obese Panda   \n",
       "4  DUO_SUPPORT  PRESEASON2017  1488106373617  An Obese Panda   \n",
       "\n",
       "               match_date  \n",
       "0 2017-02-28 02:10:19.979  \n",
       "1 2017-02-28 00:28:00.002  \n",
       "2 2017-02-27 23:41:04.993  \n",
       "3 2017-02-27 23:07:51.351  \n",
       "4 2017-02-26 10:52:53.617  "
      ]
     },
     "execution_count": 58,
     "metadata": {},
     "output_type": "execute_result"
    }
   ],
   "source": [
    "match_results.head()"
   ]
  },
  {
   "cell_type": "code",
   "execution_count": 59,
   "metadata": {
    "collapsed": false
   },
   "outputs": [
    {
     "data": {
      "text/plain": [
       "TEAM_BUILDER_RANKED_SOLO    23827\n",
       "RANKED_FLEX_SR               2354\n",
       "RANKED_PREMADE_3x3            296\n",
       "Name: queue, dtype: int64"
      ]
     },
     "execution_count": 59,
     "metadata": {},
     "output_type": "execute_result"
    }
   ],
   "source": [
    "match_results.queue.value_counts()"
   ]
  },
  {
   "cell_type": "code",
   "execution_count": 60,
   "metadata": {
    "collapsed": false
   },
   "outputs": [
    {
     "data": {
      "text/plain": [
       "SOLO           9966\n",
       "NONE           6568\n",
       "DUO_CARRY      5037\n",
       "DUO_SUPPORT    4263\n",
       "DUO             643\n",
       "Name: role, dtype: int64"
      ]
     },
     "execution_count": 60,
     "metadata": {},
     "output_type": "execute_result"
    }
   ],
   "source": [
    "match_results.role.value_counts()"
   ]
  },
  {
   "cell_type": "code",
   "execution_count": 62,
   "metadata": {
    "collapsed": false
   },
   "outputs": [
    {
     "data": {
      "text/plain": [
       "AutoLock Saber    2332\n",
       "Best Of You       2233\n",
       "Bao Bao           2156\n",
       "Biofrost          2090\n",
       "ardnaxela         1870\n",
       "Binti Jua         1826\n",
       "AsianSGpøtatø     1584\n",
       "Angelúmi          1562\n",
       "Blooms            1485\n",
       "Anthøny           1441\n",
       "aphromoo          1397\n",
       "Budded            1199\n",
       "Arcsecond         1100\n",
       "BobbyTea           990\n",
       "Blud Munni         946\n",
       "bu xu xiao         715\n",
       "Arçee              660\n",
       "An Obese Panda     495\n",
       "biblee             352\n",
       "Annie Bot           44\n",
       "Name: player_name, dtype: int64"
      ]
     },
     "execution_count": 62,
     "metadata": {},
     "output_type": "execute_result"
    }
   ],
   "source": [
    "match_results.player_name.value_counts()"
   ]
  },
  {
   "cell_type": "code",
   "execution_count": 63,
   "metadata": {
    "collapsed": true
   },
   "outputs": [],
   "source": [
    "player_dict = {}\n",
    "\n",
    "player_dict['AutoLock Saber'] = 1\n",
    "player_dict['Best Of You'] = 2"
   ]
  },
  {
   "cell_type": "code",
   "execution_count": 64,
   "metadata": {
    "collapsed": false
   },
   "outputs": [
    {
     "data": {
      "text/plain": [
       "{'AutoLock Saber': 1, 'Best Of You': 2}"
      ]
     },
     "execution_count": 64,
     "metadata": {},
     "output_type": "execute_result"
    }
   ],
   "source": [
    "player_dict"
   ]
  },
  {
   "cell_type": "code",
   "execution_count": 65,
   "metadata": {
    "collapsed": true
   },
   "outputs": [],
   "source": [
    "import json\n",
    "\n",
    "# save to file:\n",
    "with open('players.json', 'w') as f:\n",
    "    json.dump(player_dict, f)"
   ]
  },
  {
   "cell_type": "code",
   "execution_count": 66,
   "metadata": {
    "collapsed": true
   },
   "outputs": [],
   "source": [
    "# load from file:\n",
    "with open('players.json', 'r') as f:\n",
    "    try:\n",
    "        data = json.load(f)\n",
    "    # if the file is empty the ValueError will be thrown\n",
    "    except ValueError:\n",
    "        data = {}"
   ]
  },
  {
   "cell_type": "code",
   "execution_count": 67,
   "metadata": {
    "collapsed": false
   },
   "outputs": [
    {
     "data": {
      "text/plain": [
       "{u'AutoLock Saber': 1, u'Best Of You': 2}"
      ]
     },
     "execution_count": 67,
     "metadata": {},
     "output_type": "execute_result"
    }
   ],
   "source": [
    "data"
   ]
  },
  {
   "cell_type": "code",
   "execution_count": null,
   "metadata": {
    "collapsed": true
   },
   "outputs": [],
   "source": []
  }
 ],
 "metadata": {
  "kernelspec": {
   "display_name": "Python 2",
   "language": "python",
   "name": "python2"
  },
  "language_info": {
   "codemirror_mode": {
    "name": "ipython",
    "version": 2
   },
   "file_extension": ".py",
   "mimetype": "text/x-python",
   "name": "python",
   "nbconvert_exporter": "python",
   "pygments_lexer": "ipython2",
   "version": "2.7.13"
  }
 },
 "nbformat": 4,
 "nbformat_minor": 0
}
